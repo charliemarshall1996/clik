{
 "cells": [
  {
   "cell_type": "code",
   "execution_count": 1,
   "metadata": {},
   "outputs": [],
   "source": [
    "import requests\n",
    "\n",
    "def get_coordinates(street, city, county, postalcode, country=\"United Kingdom\"):\n",
    "    url = 'https://nominatim.openstreetmap.org/search?'\n",
    "    params = {\n",
    "        'street': street,\n",
    "        'city': city,\n",
    "        'county': county,\n",
    "        'country': country,\n",
    "        'postalcode': postalcode,\n",
    "        'format': 'json',\n",
    "        'addressdetails': 1,\n",
    "        'limit': 1  # Only get the top result\n",
    "    }\n",
    "    response = requests.get(url, params=params)\n",
    "\n",
    "    if response.status_code == 200:\n",
    "        data = response.json()\n",
    "        if data:\n",
    "            latitude = data[0]['lat']\n",
    "            longitude = data[0]['lon']\n",
    "            return float(latitude), float(longitude)\n",
    "        else:\n",
    "            print(\"No results found.\")\n",
    "    else:\n",
    "        print(f\"Error: {response.status_code}\")\n",
    "    return None\n"
   ]
  },
  {
   "cell_type": "code",
   "execution_count": 2,
   "metadata": {},
   "outputs": [
    {
     "name": "stdout",
     "output_type": "stream",
     "text": [
      "(51.2380469, -0.7687956366253179)\n"
     ]
    }
   ],
   "source": [
    "print(get_coordinates(\"221 Weybourne Road\", \"Aldershot\", \"Hampshire\", \"GU11 3NE\"))"
   ]
  }
 ],
 "metadata": {
  "kernelspec": {
   "display_name": ".venv",
   "language": "python",
   "name": "python3"
  },
  "language_info": {
   "codemirror_mode": {
    "name": "ipython",
    "version": 3
   },
   "file_extension": ".py",
   "mimetype": "text/x-python",
   "name": "python",
   "nbconvert_exporter": "python",
   "pygments_lexer": "ipython3",
   "version": "3.11.9"
  }
 },
 "nbformat": 4,
 "nbformat_minor": 2
}
